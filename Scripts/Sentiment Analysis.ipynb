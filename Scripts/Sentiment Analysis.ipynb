{
 "cells": [
  {
   "cell_type": "code",
   "execution_count": 4,
   "metadata": {
    "collapsed": false
   },
   "outputs": [],
   "source": [
    "#Importing all the modules as needed\n",
    "\n",
    "import sqlite3 as lite\n",
    "\n",
    "import pandas as pd\n",
    "import csv\n",
    "import sys\n",
    "import random\n",
    "import numpy as np\n",
    "import time\n",
    "import twython\n",
    "from time import strftime\n",
    "import matplotlib.pyplot as plt\n",
    "import matplotlib.patches as mpatches\n",
    "import nltk\n",
    "from nltk import corpus\n",
    "from nltk.corpus import stopwords\n",
    "from nltk.tokenize import RegexpTokenizer\n",
    "from nltk.twitter import Twitter\n",
    "\n",
    "from sklearn import datasets\n",
    "from sklearn.naive_bayes import GaussianNB\n",
    "from sklearn.feature_extraction.text import CountVectorizer\n",
    "from sklearn.feature_extraction.text import TfidfTransformer\n",
    "from sklearn.naive_bayes import MultinomialNB\n",
    "from sklearn.pipeline import Pipeline\n",
    "from sklearn.linear_model import SGDClassifier\n",
    "from sklearn import metrics\n",
    "from sklearn.grid_search import GridSearchCV\n",
    "from sklearn.model_selection import cross_val_score\n",
    "from sklearn.neural_network import MLPClassifier\n",
    "from sklearn.feature_selection import SelectKBest, chi2"
   ]
  },
  {
   "cell_type": "code",
   "execution_count": 13,
   "metadata": {
    "collapsed": false
   },
   "outputs": [],
   "source": [
    "# How to read in files\n",
    "# Change if necessary\n",
    "\n",
    "file = \"tweets.csv\"\n",
    "randomized_file = \"randomized_tweets.csv\"\n",
    "training_data = \"training_data.csv\"\n",
    "testing_data = \"testing_data.csv\"\n",
    "unlabeled_data = \"unlabeled.csv\"\n",
    "predicted_data_NB = \"predicted_nb.csv\"\n",
    "predicted_data_LSVM = \"predicted_lsvm.csv\"\n",
    "\n",
    "training_file = csv.writer(open(training_data, \"wb+\"))\n",
    "testing_file = csv.writer(open(testing_data, \"wb+\"))\n",
    "unlabeled_file = csv.writer(open(unlabeled_data, \"wb+\"))\n",
    "\n",
    "with open(file, 'rb') as source:\n",
    "        data = [ (random.random(), line) for line in source ]\n",
    "data.sort()\n",
    "with open(randomized_file, 'wb+') as target:\n",
    "        for _, line in data:\n",
    "            target.write( line )\n",
    "\n",
    "prepped_tweet_file = csv.reader(open(randomized_file, \"rb\"))"
   ]
  },
  {
   "cell_type": "code",
   "execution_count": 9,
   "metadata": {
    "collapsed": false
   },
   "outputs": [],
   "source": []
  },
  {
   "cell_type": "code",
   "execution_count": null,
   "metadata": {
    "collapsed": true
   },
   "outputs": [],
   "source": []
  }
 ],
 "metadata": {
  "kernelspec": {
   "display_name": "Python 3",
   "language": "python",
   "name": "python3"
  },
  "language_info": {
   "codemirror_mode": {
    "name": "ipython",
    "version": 3
   },
   "file_extension": ".py",
   "mimetype": "text/x-python",
   "name": "python",
   "nbconvert_exporter": "python",
   "pygments_lexer": "ipython3",
   "version": "3.6.0"
  }
 },
 "nbformat": 4,
 "nbformat_minor": 2
}
